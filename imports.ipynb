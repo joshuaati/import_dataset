{
 "cells": [
  {
   "cell_type": "code",
   "execution_count": 1,
   "metadata": {},
   "outputs": [],
   "source": [
    "import numpy as np\n",
    "import pandas as pd\n",
    "import matplotlib.pyplot as plt\n",
    "import seaborn as sns\n"
   ]
  },
  {
   "cell_type": "code",
   "execution_count": 2,
   "metadata": {},
   "outputs": [],
   "source": [
    "imports = pd.read_csv('India_imports_exports_1997_2022.csv')"
   ]
  },
  {
   "cell_type": "code",
   "execution_count": 3,
   "metadata": {},
   "outputs": [
    {
     "data": {
      "text/html": [
       "<div>\n",
       "<style scoped>\n",
       "    .dataframe tbody tr th:only-of-type {\n",
       "        vertical-align: middle;\n",
       "    }\n",
       "\n",
       "    .dataframe tbody tr th {\n",
       "        vertical-align: top;\n",
       "    }\n",
       "\n",
       "    .dataframe thead th {\n",
       "        text-align: right;\n",
       "    }\n",
       "</style>\n",
       "<table border=\"1\" class=\"dataframe\">\n",
       "  <thead>\n",
       "    <tr style=\"text-align: right;\">\n",
       "      <th></th>\n",
       "      <th>Country</th>\n",
       "      <th>Export</th>\n",
       "      <th>Import</th>\n",
       "      <th>Total Trade</th>\n",
       "      <th>Trade Balance</th>\n",
       "      <th>Financial Year(start)</th>\n",
       "      <th>Financial Year(end)</th>\n",
       "    </tr>\n",
       "  </thead>\n",
       "  <tbody>\n",
       "    <tr>\n",
       "      <th>0</th>\n",
       "      <td>AFGHANISTAN</td>\n",
       "      <td>21.25</td>\n",
       "      <td>10.7</td>\n",
       "      <td>31.95</td>\n",
       "      <td>10.55</td>\n",
       "      <td>1997</td>\n",
       "      <td>1998</td>\n",
       "    </tr>\n",
       "    <tr>\n",
       "      <th>1</th>\n",
       "      <td>AFGHANISTAN</td>\n",
       "      <td>12.81</td>\n",
       "      <td>28.14</td>\n",
       "      <td>40.95</td>\n",
       "      <td>-15.33</td>\n",
       "      <td>1998</td>\n",
       "      <td>1999</td>\n",
       "    </tr>\n",
       "    <tr>\n",
       "      <th>2</th>\n",
       "      <td>AFGHANISTAN</td>\n",
       "      <td>33.2</td>\n",
       "      <td>21.06</td>\n",
       "      <td>54.26</td>\n",
       "      <td>12.15</td>\n",
       "      <td>1999</td>\n",
       "      <td>2000</td>\n",
       "    </tr>\n",
       "    <tr>\n",
       "      <th>3</th>\n",
       "      <td>AFGHANISTAN</td>\n",
       "      <td>25.86</td>\n",
       "      <td>26.59</td>\n",
       "      <td>52.45</td>\n",
       "      <td>-0.73</td>\n",
       "      <td>2000</td>\n",
       "      <td>2001</td>\n",
       "    </tr>\n",
       "    <tr>\n",
       "      <th>4</th>\n",
       "      <td>AFGHANISTAN</td>\n",
       "      <td>24.37</td>\n",
       "      <td>17.52</td>\n",
       "      <td>41.89</td>\n",
       "      <td>6.85</td>\n",
       "      <td>2001</td>\n",
       "      <td>2002</td>\n",
       "    </tr>\n",
       "  </tbody>\n",
       "</table>\n",
       "</div>"
      ],
      "text/plain": [
       "       Country Export Import Total Trade Trade Balance  Financial Year(start)  \\\n",
       "0  AFGHANISTAN  21.25   10.7       31.95         10.55                   1997   \n",
       "1  AFGHANISTAN  12.81  28.14       40.95        -15.33                   1998   \n",
       "2  AFGHANISTAN   33.2  21.06       54.26         12.15                   1999   \n",
       "3  AFGHANISTAN  25.86  26.59       52.45         -0.73                   2000   \n",
       "4  AFGHANISTAN  24.37  17.52       41.89          6.85                   2001   \n",
       "\n",
       "  Financial Year(end)  \n",
       "0                1998  \n",
       "1                1999  \n",
       "2                2000  \n",
       "3                2001  \n",
       "4                2002  "
      ]
     },
     "execution_count": 3,
     "metadata": {},
     "output_type": "execute_result"
    }
   ],
   "source": [
    "imports.head()"
   ]
  },
  {
   "cell_type": "code",
   "execution_count": null,
   "metadata": {},
   "outputs": [],
   "source": []
  }
 ],
 "metadata": {
  "kernelspec": {
   "display_name": "Python 3.9.12 ('base')",
   "language": "python",
   "name": "python3"
  },
  "language_info": {
   "codemirror_mode": {
    "name": "ipython",
    "version": 3
   },
   "file_extension": ".py",
   "mimetype": "text/x-python",
   "name": "python",
   "nbconvert_exporter": "python",
   "pygments_lexer": "ipython3",
   "version": "3.9.12"
  },
  "orig_nbformat": 4,
  "vscode": {
   "interpreter": {
    "hash": "ad2bdc8ecc057115af97d19610ffacc2b4e99fae6737bb82f5d7fb13d2f2c186"
   }
  }
 },
 "nbformat": 4,
 "nbformat_minor": 2
}
